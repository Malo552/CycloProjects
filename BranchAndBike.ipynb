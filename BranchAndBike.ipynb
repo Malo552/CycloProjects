{
 "cells": [
  {
   "attachments": {},
   "cell_type": "markdown",
   "metadata": {},
   "source": [
    "# Implementing a Branch and Bound algorithm for Integer Problems, and applying it to finding the best Velogames teams\n",
    "\n",
    "Velogames is a cycling fantasy game where, before each race you pick 9 riders for your team, and score points depending on how those riders did. Each rider has a pre-determined cost, the favorites costing more than the others. In total, you only have 100 credits to spend on your riders. A question that comes to mind is: given those 100 credits, what would be the best possible team to pick.\n",
    "\n",
    "This translates nicely into an integer programming problem, which we implement and solve using the Branch and Bound Algorithm."
   ]
  },
  {
   "cell_type": "code",
   "execution_count": 22,
   "metadata": {},
   "outputs": [],
   "source": [
    "# imports, constants\n",
    "\n",
    "import scipy.optimize as opt\n",
    "import numpy as np\n",
    "import queue\n",
    "import pandas as pd"
   ]
  },
  {
   "cell_type": "code",
   "execution_count": 23,
   "metadata": {},
   "outputs": [],
   "source": [
    "# Implementation of the Branch and Bound algorithm (probably quite inefficient)\n",
    "\n",
    "class ILP():\n",
    "    def __init__(self, c, A, b):\n",
    "        self.c = c\n",
    "        self.A = A\n",
    "        self.b = b\n",
    "\n",
    "    def relaxed_solve(self):\n",
    "        c = self.c\n",
    "        A = self.A\n",
    "        b = self.b\n",
    "        res = opt.linprog(c, A_ub=A, b_ub=b, bounds=bounds)\n",
    "        return res\n",
    "\n",
    "    def copy(self):\n",
    "        return ILP(self.c, self.A, self.b)\n",
    "\n",
    "\n",
    "def check_cut(I_cut):\n",
    "    global z_best\n",
    "    global x_best\n",
    "\n",
    "    res = I_cut.relaxed_solve()\n",
    "    if res.success:\n",
    "        if res.fun >= z_best:\n",
    "            return False\n",
    "        else:\n",
    "            if np.isclose(res.x, np.round(res.x), rtol=1e-9, atol=1e-9).all():\n",
    "                z_best = res.fun\n",
    "                x_best = res.x\n",
    "                return False\n",
    "            return True\n",
    "    return False\n",
    "\n",
    "\n",
    "def branch(I_branch):\n",
    "\n",
    "    res = I_branch.relaxed_solve()\n",
    "    dists = np.abs(res.x - np.round(res.x))\n",
    "    idx = np.argmax(dists)\n",
    "    split = np.floor(res.x[idx])\n",
    "\n",
    "    I1 = I_branch.copy()\n",
    "    I2 = I_branch.copy()\n",
    "\n",
    "    new_row = np.zeros(I1.A.shape[1])\n",
    "    new_row[idx] = 1\n",
    "    I1.A = np.vstack((I1.A, new_row))\n",
    "    I1.b = np.append(I1.b, split)\n",
    "\n",
    "    new_row = np.zeros(I2.A.shape[1])\n",
    "    new_row[idx] = - 1\n",
    "    I2.A = np.vstack((I2.A, new_row))\n",
    "    I2.b = np.append(I2.b, - split - 1)\n",
    "\n",
    "    return I1, I2\n",
    "\n",
    "\n",
    "def solve(I):\n",
    "    Q = queue.LifoQueue()\n",
    "    Q.put(I)\n",
    "    while Q.qsize() > 0:\n",
    "        I_temp = Q.get()\n",
    "        if check_cut(I_temp):\n",
    "            I1, I2 = branch(I_temp)\n",
    "            Q.put(I1)\n",
    "            Q.put(I2)\n",
    "    return x_best, z_best"
   ]
  },
  {
   "cell_type": "code",
   "execution_count": 36,
   "metadata": {},
   "outputs": [],
   "source": [
    "# Application of the Branch and Bound algorithm to the Branch and Bike problem\n",
    "# Call the function with url being the \"Riders\" page for the Race you want to solve\n",
    "# Set n_riders = 9 for stage races, 6 for classics\n",
    "\n",
    "z_best = np.inf\n",
    "x_best = None\n",
    "bounds = (0,1)\n",
    "\n",
    "def find_best_team(url, n_riders = 9):\n",
    "    \n",
    "    DF = pd.read_html(url)[0]\n",
    "    \n",
    "    c = - np.array(DF[\"Points\"])\n",
    "    A = np.vstack((DF[\"Cost\"], np.ones(DF.shape[0]), -np.ones(DF.shape[0])))\n",
    "    b = np.array([100, n_riders, -n_riders]) # constraint on cost, min number of riders, and max number of riders\n",
    "    \n",
    "    I = ILP(c, A, b)\n",
    "    r, p = solve(I)\n",
    "    \n",
    "    riders = []\n",
    "    for i in range(len(r)):\n",
    "        if r[i]:\n",
    "            riders.append(DF.iloc[i][\"Rider\"])\n",
    "            \n",
    "    print(\"Best team: \", *riders, sep = \"\\n\")\n",
    "    print( \"with\", -p, \" points\")\n",
    "    print(\"Cost :\", np.dot(r, DF[\"Cost\"]))\n",
    "    return riders, -p\n",
    "    "
   ]
  },
  {
   "cell_type": "code",
   "execution_count": 37,
   "metadata": {},
   "outputs": [
    {
     "name": "stdout",
     "output_type": "stream",
     "text": [
      "Best team: \n",
      "Primož Roglič\n",
      "Maximilian Schachmann\n",
      "Sam Bennett\n",
      "Bryan Coquard\n",
      "Christophe Laporte\n",
      "Aurélien Paret-Peintre\n",
      "Gino Mäder\n",
      "Lucas Hamilton\n",
      "Anthony Perez\n",
      "with 4536.0  points\n",
      "Cost : 100.0\n",
      "CPU times: total: 469 ms\n",
      "Wall time: 863 ms\n"
     ]
    }
   ],
   "source": [
    "%%time\n",
    "\n",
    "riders, points = find_best_team('https://www.velogames.com/pn/2021/riders.php')"
   ]
  }
 ],
 "metadata": {
  "kernelspec": {
   "display_name": "Python 3",
   "language": "python",
   "name": "python3"
  },
  "language_info": {
   "codemirror_mode": {
    "name": "ipython",
    "version": 3
   },
   "file_extension": ".py",
   "mimetype": "text/x-python",
   "name": "python",
   "nbconvert_exporter": "python",
   "pygments_lexer": "ipython3",
   "version": "3.10.10"
  },
  "orig_nbformat": 4
 },
 "nbformat": 4,
 "nbformat_minor": 2
}
